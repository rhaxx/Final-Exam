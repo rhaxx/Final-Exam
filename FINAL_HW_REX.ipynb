{
 "cells": [
  {
   "cell_type": "markdown",
   "metadata": {},
   "source": [
    "# Multiple Choice"
   ]
  },
  {
   "cell_type": "markdown",
   "metadata": {},
   "source": [
    "Q1: Who created/started Python?\n",
    "\n",
    "a) Rex  \n",
    "b) Guido Van Rossum  \n",
    "c) George Washington  \n",
    "d) Michael Grossberg  \n",
    "\n",
    "Answer: (b)"
   ]
  },
  {
   "cell_type": "markdown",
   "metadata": {},
   "source": [
    "Q2: Which of the following regex pattern represents NOT space?  \n",
    "\n",
    "a) '\\d'  \n",
    "b) '\\w+'  \n",
    "c) '\\s'  \n",
    "d) '\\S'\n",
    "\n",
    "Answer: (d)"
   ]
  },
  {
   "cell_type": "markdown",
   "metadata": {},
   "source": [
    "Q3: What is the output of the following code?  \n",
    "\n",
    "rex = [28, 'true', 3.14, 'false', 2+2, 'hello world its siraj']  \n",
    "print(rex[-2])  \n",
    "\n",
    "a) true  \n",
    "b) hello world its siraj  \n",
    "c) 4  \n",
    "d) 3.14  \n",
    "\n",
    "Answer: (c)"
   ]
  },
  {
   "cell_type": "markdown",
   "metadata": {},
   "source": [
    "Q4: Which of the following numpy functions returns the median value of a numpy array?  \n",
    "\n",
    "a) np.std()  \n",
    "b) np.corrcoef()  \n",
    "c) np.mean()  \n",
    "d) none of the above  \n",
    "\n",
    "Answer: (d)"
   ]
  },
  {
   "cell_type": "markdown",
   "metadata": {},
   "source": [
    "Q5: Which of the following plots would best represent the distribution of grade ranges on an exam?  \n",
    "\n",
    "a) Line Plot  \n",
    "b) Scatter Plot  \n",
    "c) Histogram  \n",
    "d) Rex Plot\n",
    "\n",
    "Answer: (c)"
   ]
  },
  {
   "cell_type": "markdown",
   "metadata": {},
   "source": [
    "Q6: What is machine learning?  \n",
    "\n",
    "a) Giving computers the ability to learn to make decisions from data without being explicitly programmed  \n",
    "b) The study and construction of algorithms that can overcome strictly static program instructions by making data driven decisions  \n",
    "c) A version of computational statistics that focus on prediction making through the use of computers  \n",
    "d) All of the above.  \n",
    "\n",
    "Answer: (d)"
   ]
  },
  {
   "cell_type": "markdown",
   "metadata": {},
   "source": [
    "Q7: Which function is typically used to calculate the output layer of a Deep Neural Network?  \n",
    "\n",
    "a) ADAM  \n",
    "b) GRADIENT DESCENT  \n",
    "c) BATCH GRADIENT DESCENT  \n",
    "d) SOFTMAX  \n",
    "\n",
    "Answer: (d)"
   ]
  },
  {
   "cell_type": "markdown",
   "metadata": {},
   "source": [
    "Q8: Which of the following is not part of a Discount Factor in a financial investment?  \n",
    "\n",
    "a) All of the below  \n",
    "b) r: The rate of depreciation per period  \n",
    "c) t: Time periods  \n",
    "d) v: The initial value of the investment  \n",
    " \n",
    "\n",
    "Answer: (a)"
   ]
  },
  {
   "cell_type": "markdown",
   "metadata": {},
   "source": [
    "# True or False"
   ]
  },
  {
   "cell_type": "markdown",
   "metadata": {},
   "source": [
    "Q1: In datacamp, Darwin's theory of evolution was explored using a finch dataset acquired from the Galapagos Archipelago.  \n",
    "\n",
    "True or False  \n",
    "\n",
    "Answer: True"
   ]
  },
  {
   "cell_type": "markdown",
   "metadata": {},
   "source": [
    "Q2: In linear regression, the distance between a singular point and the line is called a residual.  \n",
    "\n",
    "True or False  \n",
    "\n",
    "Answer: True"
   ]
  },
  {
   "cell_type": "markdown",
   "metadata": {},
   "source": [
    "Q3: Least Squares is the process of finding the parameters for which the sum of the squares of the residuals is minimal.  \n",
    "\n",
    "True or False  \n",
    "\n",
    "Answer: True"
   ]
  },
  {
   "cell_type": "markdown",
   "metadata": {},
   "source": [
    "Q4: Null Hypothesis is not another name for the hypothesis you are testing.  \n",
    "\n",
    "True or False  \n",
    "\n",
    "Answer: False"
   ]
  },
  {
   "cell_type": "markdown",
   "metadata": {},
   "source": [
    "Q5: Supervised learning does not use labeled data.  \n",
    "\n",
    "True or False  \n",
    "\n",
    "Answer: False"
   ]
  },
  {
   "cell_type": "markdown",
   "metadata": {},
   "source": [
    "Q6: Unsupervised learning does not find patterns in data.\n",
    "   \n",
    "True or False\n",
    "\n",
    "Answer: False"
   ]
  },
  {
   "cell_type": "markdown",
   "metadata": {},
   "source": [
    "Q7: Clustering and Dimension reduction are two forms of Unsupervised learning.\n",
    "\n",
    "True or False\n",
    "\n",
    "Answer: True"
   ]
  },
  {
   "cell_type": "markdown",
   "metadata": {},
   "source": [
    "Q8: Leaky ReLU is an activation function that was created to get rid of any potential \"dead\" neuron's in a deep neural network.\n",
    "\n",
    "True or False\n",
    "\n",
    "Answer: True"
   ]
  },
  {
   "cell_type": "markdown",
   "metadata": {},
   "source": [
    "# Short-Answer"
   ]
  },
  {
   "cell_type": "code",
   "execution_count": null,
   "metadata": {},
   "outputs": [],
   "source": [
    "# Import numpy\n",
    "import numpy as np\n",
    "\n",
    "# Create baseball, a list of lists\n",
    "baseball = [[180, 78.4],\n",
    "            [215, 102.7],\n",
    "            [210, 98.5],\n",
    "            [188, 75.2]]\n",
    "\n",
    "# Create a 2D numpy array from baseball: np_baseball\n",
    "**** = np.****(****)\n",
    "\n",
    "# Print out the type of np_baseball\n",
    "print(type(****))\n",
    "\n",
    "# Print out the shape of np_baseball\n",
    "print(****.****)\n",
    "\n",
    "# Answer--------------------------------\n",
    "# Create baseball, a list of lists\n",
    "#baseball = [[180, 78.4],\n",
    "#            [215, 102.7],\n",
    "#            [210, 98.5],\n",
    "#            [188, 75.2]]\n",
    "\n",
    "# Import numpy\n",
    "#import numpy as np\n",
    "\n",
    "# Create a 2D numpy array from baseball: np_baseball\n",
    "#np_baseball = np.array(baseball)\n",
    "\n",
    "# Print out the type of np_baseball\n",
    "#print(type(np_baseball))\n",
    "\n",
    "# Print out the shape of np_baseball\n",
    "#print(np_baseball.shape)"
   ]
  },
  {
   "cell_type": "code",
   "execution_count": null,
   "metadata": {},
   "outputs": [],
   "source": [
    "# Import matplotlib.pyplot as plt\n",
    "import matplotlib.pyplot as plt\n",
    "%matplotlib inline\n",
    "import numpy as np\n",
    "\n",
    "year = [1950, 1951, 1952, 1953, 1954, 1955, 1956, 1957, 1958, 1959, 1960, 1961, 1962, 1963, 1964, 1965, 1966, 1967, 1968, 1969, 1970, 1971, 1972, 1973, 1974, 1975, 1976, 1977, 1978, 1979, 1980, 1981, 1982, 1983, 1984, 1985, 1986, 1987, 1988, 1989, 1990, 1991, 1992, 1993, 1994, 1995, 1996, 1997, 1998, 1999, 2000, 2001, 2002, 2003, 2004, 2005, 2006, 2007, 2008, 2009, 2010, 2011, 2012, 2013, 2014, 2015, 2016, 2017, 2018, 2019, 2020, 2021, 2022, 2023, 2024, 2025, 2026, 2027, 2028, 2029, 2030, 2031, 2032, 2033, 2034, 2035, 2036, 2037, 2038, 2039, 2040, 2041, 2042, 2043, 2044, 2045, 2046, 2047, 2048, 2049, 2050, 2051, 2052, 2053, 2054, 2055, 2056, 2057, 2058, 2059, 2060, 2061, 2062, 2063, 2064, 2065, 2066, 2067, 2068, 2069, 2070, 2071, 2072, 2073, 2074, 2075, 2076, 2077, 2078, 2079, 2080, 2081, 2082, 2083, 2084, 2085, 2086, 2087, 2088, 2089, 2090, 2091, 2092, 2093, 2094, 2095, 2096, 2097, 2098, 2099, 2100]\n",
    "pop = [2.53, 2.57, 2.62, 2.67, 2.71, 2.76, 2.81, 2.86, 2.92, 2.97, 3.03, 3.08, 3.14, 3.2, 3.26, 3.33, 3.4, 3.47, 3.54, 3.62, 3.69, 3.77, 3.84, 3.92, 4.0, 4.07, 4.15, 4.22, 4.3, 4.37, 4.45, 4.53, 4.61, 4.69, 4.78, 4.86, 4.95, 5.05, 5.14, 5.23, 5.32, 5.41, 5.49, 5.58, 5.66, 5.74, 5.82, 5.9, 5.98, 6.05, 6.13, 6.2, 6.28, 6.36, 6.44, 6.51, 6.59, 6.67, 6.75, 6.83, 6.92, 7.0, 7.08, 7.16, 7.24, 7.32, 7.4, 7.48, 7.56, 7.64, 7.72, 7.79, 7.87, 7.94, 8.01, 8.08, 8.15, 8.22, 8.29, 8.36, 8.42, 8.49, 8.56, 8.62, 8.68, 8.74, 8.8, 8.86, 8.92, 8.98, 9.04, 9.09, 9.15, 9.2, 9.26, 9.31, 9.36, 9.41, 9.46, 9.5, 9.55, 9.6, 9.64, 9.68, 9.73, 9.77, 9.81, 9.85, 9.88, 9.92, 9.96, 9.99, 10.03, 10.06, 10.09, 10.13, 10.16, 10.19, 10.22, 10.25, 10.28, 10.31, 10.33, 10.36, 10.38, 10.41, 10.43, 10.46, 10.48, 10.5, 10.52, 10.55, 10.57, 10.59, 10.61, 10.63, 10.65, 10.66, 10.68, 10.7, 10.72, 10.73, 10.75, 10.77, 10.78, 10.79, 10.81, 10.82, 10.83, 10.84, 10.85]\n",
    "\n",
    "# Make a line plot: year on the x-axis, pop on the y-axis\n",
    "plt.****(****, ****)\n",
    "\n",
    "# Label the plot's x, y, and title\n",
    "plt.x****(****)\n",
    "plt.y****l(****)\n",
    "plt.t****(****)\n",
    "\n",
    "# Display the plot with plt.show()\n",
    "****\n",
    "\n",
    "# Answer -----------------------------------------\n",
    "#year = [1950, 1951, 1952, 1953, 1954, 1955, 1956, 1957, 1958, 1959, 1960, 1961, 1962, 1963, 1964, 1965, 1966, 1967, 1968, 1969, 1970, 1971, 1972, 1973, 1974, 1975, 1976, 1977, 1978, 1979, 1980, 1981, 1982, 1983, 1984, 1985, 1986, 1987, 1988, 1989, 1990, 1991, 1992, 1993, 1994, 1995, 1996, 1997, 1998, 1999, 2000, 2001, 2002, 2003, 2004, 2005, 2006, 2007, 2008, 2009, 2010, 2011, 2012, 2013, 2014, 2015, 2016, 2017, 2018, 2019, 2020, 2021, 2022, 2023, 2024, 2025, 2026, 2027, 2028, 2029, 2030, 2031, 2032, 2033, 2034, 2035, 2036, 2037, 2038, 2039, 2040, 2041, 2042, 2043, 2044, 2045, 2046, 2047, 2048, 2049, 2050, 2051, 2052, 2053, 2054, 2055, 2056, 2057, 2058, 2059, 2060, 2061, 2062, 2063, 2064, 2065, 2066, 2067, 2068, 2069, 2070, 2071, 2072, 2073, 2074, 2075, 2076, 2077, 2078, 2079, 2080, 2081, 2082, 2083, 2084, 2085, 2086, 2087, 2088, 2089, 2090, 2091, 2092, 2093, 2094, 2095, 2096, 2097, 2098, 2099, 2100]\n",
    "#pop = [2.53, 2.57, 2.62, 2.67, 2.71, 2.76, 2.81, 2.86, 2.92, 2.97, 3.03, 3.08, 3.14, 3.2, 3.26, 3.33, 3.4, 3.47, 3.54, 3.62, 3.69, 3.77, 3.84, 3.92, 4.0, 4.07, 4.15, 4.22, 4.3, 4.37, 4.45, 4.53, 4.61, 4.69, 4.78, 4.86, 4.95, 5.05, 5.14, 5.23, 5.32, 5.41, 5.49, 5.58, 5.66, 5.74, 5.82, 5.9, 5.98, 6.05, 6.13, 6.2, 6.28, 6.36, 6.44, 6.51, 6.59, 6.67, 6.75, 6.83, 6.92, 7.0, 7.08, 7.16, 7.24, 7.32, 7.4, 7.48, 7.56, 7.64, 7.72, 7.79, 7.87, 7.94, 8.01, 8.08, 8.15, 8.22, 8.29, 8.36, 8.42, 8.49, 8.56, 8.62, 8.68, 8.74, 8.8, 8.86, 8.92, 8.98, 9.04, 9.09, 9.15, 9.2, 9.26, 9.31, 9.36, 9.41, 9.46, 9.5, 9.55, 9.6, 9.64, 9.68, 9.73, 9.77, 9.81, 9.85, 9.88, 9.92, 9.96, 9.99, 10.03, 10.06, 10.09, 10.13, 10.16, 10.19, 10.22, 10.25, 10.28, 10.31, 10.33, 10.36, 10.38, 10.41, 10.43, 10.46, 10.48, 10.5, 10.52, 10.55, 10.57, 10.59, 10.61, 10.63, 10.65, 10.66, 10.68, 10.7, 10.72, 10.73, 10.75, 10.77, 10.78, 10.79, 10.81, 10.82, 10.83, 10.84, 10.85]\n",
    "\n",
    "# Make a line plot: year on the x-axis, pop on the y-axis\n",
    "#plt.plot(year, pop)\n",
    "\n",
    "# Label the plot\n",
    "#plt.xlabel('Year')\n",
    "#plt.ylabel('Population in Billions')\n",
    "#plt.title('Population Growth')\n",
    "\n",
    "# Display the plot with plt.show()\n",
    "#plt.show()"
   ]
  },
  {
   "cell_type": "code",
   "execution_count": null,
   "metadata": {},
   "outputs": [],
   "source": [
    "# house list of lists\n",
    "house = [[\"hallway\", 11.25], \n",
    "         [\"kitchen\", 18.0], \n",
    "         [\"living room\", 20.0], \n",
    "         [\"bedroom\", 10.75], \n",
    "         [\"bathroom\", 9.50]]\n",
    "         \n",
    "# Build a for loop from scratch\n",
    "for **** in **** :\n",
    "    print(\"the \" + str(****) + \" is \" + str(****) + \" sqm\")\n",
    "    \n",
    "# Answer---------------------------------------------\n",
    "# house list of lists\n",
    "#house = [[\"hallway\", 11.25], \n",
    "#         [\"kitchen\", 18.0], \n",
    "#         [\"living room\", 20.0], \n",
    "#         [\"bedroom\", 10.75], \n",
    "#         [\"bathroom\", 9.50]]\n",
    "         \n",
    "# Build a for loop from scratch\n",
    "#for room in house :\n",
    "#    print(\"the \" + str(room[0]) + \" is \" + str(room[1]) + \" sqm\")"
   ]
  },
  {
   "cell_type": "markdown",
   "metadata": {},
   "source": [
    "# Data Set Mini Question"
   ]
  },
  {
   "cell_type": "code",
   "execution_count": null,
   "metadata": {},
   "outputs": [],
   "source": [
    "from sklearn.datasets import make_multilabel_classification as mmc\n",
    "from sklearn.neighbors import KNeighborsClassifier\n",
    "from sklearn.model_selection import train_test_split\n",
    "from sklearn.metrics import classification_report\n",
    "\n",
    "# Generating random data\n",
    "# X has the data, y has the labels for each row of X\n",
    "X, y = mmc(n_samples=200, n_features=4, n_classes=5, n_labels=3, random_state=42)\n",
    "\n",
    "# Use train_test_split to divide your X data and y labels into X_train, X_test, y_train, y_test\n",
    "# use a test_size of 30% and a random_state of 42\n",
    "****, ****, ****, **** = train_test_split(****, ****, test_size=****, random_state=****)\n",
    "\n",
    "# Use KNeighborsClassifier with 5 n_neighbors\n",
    "KNC = ****(n_neighbors=****)\n",
    "\n",
    "# Fit your model with the X training data and y training labels\n",
    "KNC.fit(****, ****)\n",
    "\n",
    "# Use the predict function of your model with the X test data and save the result as y_pred\n",
    "y_pred = KNC.****(****)\n",
    "\n",
    "# Print the classification report of your y predicted labels against the actual y tested labels\n",
    "print(classification_report(****, ****))\n",
    "\n",
    "\n",
    "# ANSWER---------------------------------------------------------------------------------------\n",
    "# Generating random data\n",
    "# X has the data, y has the labels for each row of X\n",
    "#X, y = mmc(n_samples=200, n_features=4, n_classes=5, n_labels=3, random_state=42)\n",
    "\n",
    "# Use train_test_split to divide your X data and y labels into X_train, X_test, y_train, y_test\n",
    "# use a test_size of 80% and a random_state of 42\n",
    "#X_train, X_test, y_train, y_test = train_test_split(X, y, test_size=0.3, random_state=42)\n",
    "\n",
    "# Use KNeighborsClassifier with 5 n_neighbors\n",
    "#KNC = KNeighborsClassifier(n_neighbors=5)\n",
    "\n",
    "# Fit your model with the X training data and y training labels\n",
    "#KNC.fit(X_train, y_train)\n",
    "\n",
    "# Use the predict function of your model with the X test data and save the result as y_pred\n",
    "#y_pred = KNC.predict(X_test)\n",
    "\n",
    "# Print the classification report of your y predicted labels against the actual y tested labels\n",
    "#print(classification_report(y_pred, y_test))"
   ]
  },
  {
   "cell_type": "code",
   "execution_count": null,
   "metadata": {},
   "outputs": [],
   "source": []
  }
 ],
 "metadata": {
  "kernelspec": {
   "display_name": "Python 3",
   "language": "python",
   "name": "python3"
  },
  "language_info": {
   "codemirror_mode": {
    "name": "ipython",
    "version": 3
   },
   "file_extension": ".py",
   "mimetype": "text/x-python",
   "name": "python",
   "nbconvert_exporter": "python",
   "pygments_lexer": "ipython3",
   "version": "3.6.3"
  }
 },
 "nbformat": 4,
 "nbformat_minor": 2
}
